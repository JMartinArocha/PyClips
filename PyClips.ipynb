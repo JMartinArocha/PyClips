{
 "cells": [
  {
   "cell_type": "code",
   "execution_count": 5,
   "metadata": {},
   "outputs": [
    {
     "name": "stdout",
     "output_type": "stream",
     "text": [
      "Requirement already satisfied: appnope==0.1.4 in ./PyClips/lib/python3.11/site-packages (from -r requirements.txt (line 1)) (0.1.4)\n",
      "Requirement already satisfied: asttokens==2.4.1 in ./PyClips/lib/python3.11/site-packages (from -r requirements.txt (line 2)) (2.4.1)\n",
      "Requirement already satisfied: cffi==1.16.0 in ./PyClips/lib/python3.11/site-packages (from -r requirements.txt (line 3)) (1.16.0)\n",
      "Requirement already satisfied: clipspy==1.0.3 in ./PyClips/lib/python3.11/site-packages (from -r requirements.txt (line 4)) (1.0.3)\n",
      "Requirement already satisfied: comm==0.2.2 in ./PyClips/lib/python3.11/site-packages (from -r requirements.txt (line 5)) (0.2.2)\n",
      "Requirement already satisfied: debugpy==1.8.1 in ./PyClips/lib/python3.11/site-packages (from -r requirements.txt (line 6)) (1.8.1)\n",
      "Requirement already satisfied: decorator==5.1.1 in ./PyClips/lib/python3.11/site-packages (from -r requirements.txt (line 7)) (5.1.1)\n",
      "Requirement already satisfied: executing==2.0.1 in ./PyClips/lib/python3.11/site-packages (from -r requirements.txt (line 8)) (2.0.1)\n",
      "Requirement already satisfied: ipykernel==6.29.4 in ./PyClips/lib/python3.11/site-packages (from -r requirements.txt (line 9)) (6.29.4)\n",
      "Requirement already satisfied: ipython==8.23.0 in ./PyClips/lib/python3.11/site-packages (from -r requirements.txt (line 10)) (8.23.0)\n",
      "Requirement already satisfied: jedi==0.19.1 in ./PyClips/lib/python3.11/site-packages (from -r requirements.txt (line 11)) (0.19.1)\n",
      "Requirement already satisfied: jupyter_client==8.6.1 in ./PyClips/lib/python3.11/site-packages (from -r requirements.txt (line 12)) (8.6.1)\n",
      "Requirement already satisfied: jupyter_core==5.7.2 in ./PyClips/lib/python3.11/site-packages (from -r requirements.txt (line 13)) (5.7.2)\n",
      "Requirement already satisfied: matplotlib-inline==0.1.7 in ./PyClips/lib/python3.11/site-packages (from -r requirements.txt (line 14)) (0.1.7)\n",
      "Requirement already satisfied: nest-asyncio==1.6.0 in ./PyClips/lib/python3.11/site-packages (from -r requirements.txt (line 15)) (1.6.0)\n",
      "Requirement already satisfied: packaging==24.0 in ./PyClips/lib/python3.11/site-packages (from -r requirements.txt (line 16)) (24.0)\n",
      "Requirement already satisfied: parso==0.8.4 in ./PyClips/lib/python3.11/site-packages (from -r requirements.txt (line 17)) (0.8.4)\n",
      "Requirement already satisfied: pexpect==4.9.0 in ./PyClips/lib/python3.11/site-packages (from -r requirements.txt (line 18)) (4.9.0)\n",
      "Requirement already satisfied: platformdirs==4.2.0 in ./PyClips/lib/python3.11/site-packages (from -r requirements.txt (line 19)) (4.2.0)\n",
      "Requirement already satisfied: prompt-toolkit==3.0.43 in ./PyClips/lib/python3.11/site-packages (from -r requirements.txt (line 20)) (3.0.43)\n",
      "Requirement already satisfied: psutil==5.9.8 in ./PyClips/lib/python3.11/site-packages (from -r requirements.txt (line 21)) (5.9.8)\n",
      "Requirement already satisfied: ptyprocess==0.7.0 in ./PyClips/lib/python3.11/site-packages (from -r requirements.txt (line 22)) (0.7.0)\n",
      "Requirement already satisfied: pure-eval==0.2.2 in ./PyClips/lib/python3.11/site-packages (from -r requirements.txt (line 23)) (0.2.2)\n",
      "Requirement already satisfied: pycparser==2.22 in ./PyClips/lib/python3.11/site-packages (from -r requirements.txt (line 24)) (2.22)\n",
      "Requirement already satisfied: Pygments==2.17.2 in ./PyClips/lib/python3.11/site-packages (from -r requirements.txt (line 25)) (2.17.2)\n",
      "Requirement already satisfied: python-dateutil==2.9.0.post0 in ./PyClips/lib/python3.11/site-packages (from -r requirements.txt (line 26)) (2.9.0.post0)\n",
      "Requirement already satisfied: pyzmq==26.0.0 in ./PyClips/lib/python3.11/site-packages (from -r requirements.txt (line 27)) (26.0.0)\n",
      "Requirement already satisfied: six==1.16.0 in ./PyClips/lib/python3.11/site-packages (from -r requirements.txt (line 28)) (1.16.0)\n",
      "Requirement already satisfied: stack-data==0.6.3 in ./PyClips/lib/python3.11/site-packages (from -r requirements.txt (line 29)) (0.6.3)\n",
      "Requirement already satisfied: tornado==6.4 in ./PyClips/lib/python3.11/site-packages (from -r requirements.txt (line 30)) (6.4)\n",
      "Requirement already satisfied: traitlets==5.14.2 in ./PyClips/lib/python3.11/site-packages (from -r requirements.txt (line 31)) (5.14.2)\n",
      "Requirement already satisfied: typing_extensions==4.11.0 in ./PyClips/lib/python3.11/site-packages (from -r requirements.txt (line 32)) (4.11.0)\n",
      "Requirement already satisfied: wcwidth==0.2.13 in ./PyClips/lib/python3.11/site-packages (from -r requirements.txt (line 33)) (0.2.13)\n",
      "\n",
      "\u001b[1m[\u001b[0m\u001b[34;49mnotice\u001b[0m\u001b[1;39;49m]\u001b[0m\u001b[39;49m A new release of pip is available: \u001b[0m\u001b[31;49m23.2.1\u001b[0m\u001b[39;49m -> \u001b[0m\u001b[32;49m24.0\u001b[0m\n",
      "\u001b[1m[\u001b[0m\u001b[34;49mnotice\u001b[0m\u001b[1;39;49m]\u001b[0m\u001b[39;49m To update, run: \u001b[0m\u001b[32;49mpip install --upgrade pip\u001b[0m\n"
     ]
    }
   ],
   "source": [
    "!pip3 install -r requirements.txt"
   ]
  },
  {
   "cell_type": "code",
   "execution_count": 3,
   "metadata": {},
   "outputs": [
    {
     "name": "stdout",
     "output_type": "stream",
     "text": [
      "Probando camino: C a D Resultado con costo: 7\n",
      "Probando camino: A a D Resultado con costo: 37\n",
      "Probando camino: B a D Resultado con costo: 12\n",
      "Probando camino: A a D Resultado con costo: 22\n",
      "Probando camino: B a C Resultado con costo: 5\n",
      "Probando camino: A a C Resultado con costo: 15\n",
      "Probando camino: A a B Resultado con costo: 10\n",
      "El camino más corto de A a B tiene un costo de: 10\n",
      "El camino más corto de A a C tiene un costo de: 15\n",
      "El camino más corto de A a D tiene un costo de: 22\n",
      "El camino más corto de B a C tiene un costo de: 5\n",
      "El camino más corto de B a D tiene un costo de: 12\n",
      "El camino más corto de C a D tiene un costo de: 7\n"
     ]
    }
   ],
   "source": [
    "from clips import Environment\n",
    "\n",
    "def cargar_y_ejecutar_clp(nombre_archivo):\n",
    "    env = Environment()\n",
    "    \n",
    "    env.load(nombre_archivo)\n",
    "    env.reset()\n",
    "    env.run()\n",
    "\n",
    "    # Crear un diccionario para almacenar el costo mínimo para cada par Inicio-Destino\n",
    "    caminos_minimos = {}\n",
    "\n",
    "    # Recorrer todos los hechos de tipo 'Camino' para encontrar el costo mínimo\n",
    "    for fact in env.facts():\n",
    "        if fact.template.name == \"Camino\":\n",
    "            inicio = fact[\"Inicio\"]\n",
    "            destino = fact[\"Destino\"]\n",
    "            coste = fact[\"Coste\"]\n",
    "            clave = (inicio, destino)\n",
    "\n",
    "            if clave not in caminos_minimos or coste < caminos_minimos[clave]:\n",
    "                caminos_minimos[clave] = coste\n",
    "\n",
    "    # Imprimir los resultados\n",
    "    for (inicio, destino), coste in sorted(caminos_minimos.items()):\n",
    "        print(f\"El camino más corto de {inicio} a {destino} tiene un costo de: {coste}\")\n",
    "\n",
    "\n",
    "cargar_y_ejecutar_clp(\"camino_mas_corto.clp\")\n",
    "\n"
   ]
  }
 ],
 "metadata": {
  "kernelspec": {
   "display_name": ".venv",
   "language": "python",
   "name": "python3"
  },
  "language_info": {
   "codemirror_mode": {
    "name": "ipython",
    "version": 3
   },
   "file_extension": ".py",
   "mimetype": "text/x-python",
   "name": "python",
   "nbconvert_exporter": "python",
   "pygments_lexer": "ipython3",
   "version": "3.11.5"
  }
 },
 "nbformat": 4,
 "nbformat_minor": 2
}
